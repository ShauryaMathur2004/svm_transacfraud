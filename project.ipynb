{
 "cells": [
  {
   "cell_type": "code",
   "execution_count": 4,
   "metadata": {},
   "outputs": [
    {
     "name": "stdout",
     "output_type": "stream",
     "text": [
      "Collecting cupy-cuda12xNote: you may need to restart the kernel to use updated packages.\n",
      "\n",
      "  Using cached cupy_cuda12x-13.3.0-cp312-cp312-win_amd64.whl.metadata (2.7 kB)\n",
      "Requirement already satisfied: numpy<2.3,>=1.22 in c:\\users\\shaurya mathur\\desktop\\programming\\ml\\venv\\lib\\site-packages (from cupy-cuda12x) (1.26.3)\n",
      "Collecting fastrlock>=0.5 (from cupy-cuda12x)\n",
      "  Using cached fastrlock-0.8.2-cp312-cp312-win_amd64.whl.metadata (9.6 kB)\n",
      "Using cached cupy_cuda12x-13.3.0-cp312-cp312-win_amd64.whl (69.5 MB)\n",
      "Using cached fastrlock-0.8.2-cp312-cp312-win_amd64.whl (30 kB)\n",
      "Installing collected packages: fastrlock, cupy-cuda12x\n",
      "Successfully installed cupy-cuda12x-13.3.0 fastrlock-0.8.2\n"
     ]
    },
    {
     "name": "stderr",
     "output_type": "stream",
     "text": [
      "\n",
      "[notice] A new release of pip is available: 24.0 -> 24.2\n",
      "[notice] To update, run: python.exe -m pip install --upgrade pip\n"
     ]
    }
   ],
   "source": [
    "pip install cupy-cuda12x  \n"
   ]
  },
  {
   "cell_type": "code",
   "execution_count": 5,
   "metadata": {},
   "outputs": [
    {
     "name": "stdout",
     "output_type": "stream",
     "text": [
      "              precision    recall  f1-score   support\n",
      "\n",
      "           0       0.99      1.00      0.99     19787\n",
      "           1       0.00      0.00      0.00       213\n",
      "\n",
      "    accuracy                           0.99     20000\n",
      "   macro avg       0.49      0.50      0.50     20000\n",
      "weighted avg       0.98      0.99      0.98     20000\n",
      "\n"
     ]
    },
    {
     "name": "stderr",
     "output_type": "stream",
     "text": [
      "c:\\Users\\SHAURYA MATHUR\\Desktop\\Programming\\ML\\venv\\Lib\\site-packages\\sklearn\\metrics\\_classification.py:1531: UndefinedMetricWarning: Precision is ill-defined and being set to 0.0 in labels with no predicted samples. Use `zero_division` parameter to control this behavior.\n",
      "  _warn_prf(average, modifier, f\"{metric.capitalize()} is\", len(result))\n",
      "c:\\Users\\SHAURYA MATHUR\\Desktop\\Programming\\ML\\venv\\Lib\\site-packages\\sklearn\\metrics\\_classification.py:1531: UndefinedMetricWarning: Precision is ill-defined and being set to 0.0 in labels with no predicted samples. Use `zero_division` parameter to control this behavior.\n",
      "  _warn_prf(average, modifier, f\"{metric.capitalize()} is\", len(result))\n",
      "c:\\Users\\SHAURYA MATHUR\\Desktop\\Programming\\ML\\venv\\Lib\\site-packages\\sklearn\\metrics\\_classification.py:1531: UndefinedMetricWarning: Precision is ill-defined and being set to 0.0 in labels with no predicted samples. Use `zero_division` parameter to control this behavior.\n",
      "  _warn_prf(average, modifier, f\"{metric.capitalize()} is\", len(result))\n"
     ]
    }
   ],
   "source": [
    "import cupy as cp\n",
    "import numpy as np\n",
    "import pandas as pd\n",
    "from sklearn import svm\n",
    "from sklearn.model_selection import train_test_split\n",
    "from sklearn.preprocessing import StandardScaler\n",
    "from sklearn.metrics import classification_report\n",
    "\n",
    "data = pd.read_csv('credit_card_fraud_dataset.csv')\n",
    "\n",
    "\n",
    "X = data.drop('IsFraud', axis=1)  # Features\n",
    "y = data['IsFraud']  # Labels\n",
    "\n",
    "data['TransactionDate'] = pd.to_datetime(data['TransactionDate'])\n",
    "data['TransactionHour'] = data['TransactionDate'].dt.hour\n",
    "data['TransactionDayOfWeek'] = data['TransactionDate'].dt.dayofweek\n",
    "data = data.drop('TransactionDate', axis=1)\n",
    "\n",
    "from sklearn.preprocessing import LabelEncoder\n",
    "label_encoders = {}\n",
    "for column in ['TransactionType', 'Location']:\n",
    "    label_encoders[column] = LabelEncoder()\n",
    "    data[column] = label_encoders[column].fit_transform(data[column])\n",
    "\n",
    "X = data.drop('IsFraud', axis=1)\n",
    "y = data['IsFraud']\n",
    "\n",
    "scaler = StandardScaler()\n",
    "X_scaled = scaler.fit_transform(X)\n",
    "X_scaled_cp = cp.asarray(X_scaled)  \n",
    "\n",
    "X_train_cp, X_test_cp, y_train_cp, y_test_cp = train_test_split(X_scaled_cp, y, test_size=0.2, random_state=42)\n",
    "\n",
    "X_train = cp.asnumpy(X_train_cp)\n",
    "X_test = cp.asnumpy(X_test_cp)\n",
    "y_train = cp.asnumpy(y_train_cp)\n",
    "y_test = cp.asnumpy(y_test_cp)\n",
    "\n",
    "svm_model = svm.SVC(kernel='linear')\n",
    "svm_model.fit(X_train, y_train)\n",
    "\n",
    "y_pred = svm_model.predict(X_test)\n",
    "print(classification_report(y_test, y_pred))\n"
   ]
  },
  {
   "cell_type": "code",
   "execution_count": 11,
   "metadata": {},
   "outputs": [
    {
     "name": "stdout",
     "output_type": "stream",
     "text": [
      "Predicted Fraud Status (0 = No Fraud, 1 = Fraud): 0\n"
     ]
    },
    {
     "name": "stderr",
     "output_type": "stream",
     "text": [
      "c:\\Users\\SHAURYA MATHUR\\Desktop\\Programming\\ML\\venv\\Lib\\site-packages\\sklearn\\base.py:493: UserWarning: X does not have valid feature names, but StandardScaler was fitted with feature names\n",
      "  warnings.warn(\n"
     ]
    }
   ],
   "source": [
    "################################## RANDOM INPUT VALUE FOR DETECTION ######################################\n",
    "\n",
    "sample = {\n",
    "    'TransactionID': 482,\n",
    "    'Amount': 250000.00,\n",
    "    'MerchantID': 712,\n",
    "    'TransactionType': 'refund',  \n",
    "    'Location': 'New York',  \n",
    "    'TransactionHour': 14,\n",
    "    'TransactionDayOfWeek': 6\n",
    "}\n",
    "\n",
    "\n",
    "sample['TransactionType'] = label_encoders['TransactionType'].transform([sample['TransactionType']])[0]\n",
    "sample['Location'] = label_encoders['Location'].transform([sample['Location']])[0]\n",
    "\n",
    "sample_array = np.array([[sample['TransactionID'], sample['Amount'], sample['MerchantID'], \n",
    "                          sample['TransactionType'], sample['Location'], \n",
    "                          sample['TransactionHour'], sample['TransactionDayOfWeek']]])\n",
    "\n",
    "sample_scaled = scaler.transform(sample_array)\n",
    "\n",
    "prediction = svm_model.predict(sample_scaled)\n",
    "print(\"Predicted Fraud Status (0 = No Fraud, 1 = Fraud):\", prediction[0])\n"
   ]
  },
  {
   "cell_type": "code",
   "execution_count": 12,
   "metadata": {},
   "outputs": [
    {
     "name": "stdout",
     "output_type": "stream",
     "text": [
      "Model, scaler, and label encoders have been saved successfully.\n"
     ]
    }
   ],
   "source": [
    "import pickle\n",
    "\n",
    "# Assuming `svm_model`, `scaler`, and `label_encoders` are already trained in previous cells\n",
    "\n",
    "# Save the SVM model\n",
    "with open('svm_model.pkl', 'wb') as model_file:\n",
    "    pickle.dump(svm_model, model_file)\n",
    "\n",
    "# Save the scaler\n",
    "with open('scaler.pkl', 'wb') as scaler_file:\n",
    "    pickle.dump(scaler, scaler_file)\n",
    "\n",
    "# Save the label encoders\n",
    "with open('label_encoders.pkl', 'wb') as encoder_file:\n",
    "    pickle.dump(label_encoders, encoder_file)\n",
    "\n",
    "print(\"Model, scaler, and label encoders have been saved successfully.\")\n"
   ]
  }
 ],
 "metadata": {
  "kernelspec": {
   "display_name": "Python 3",
   "language": "python",
   "name": "python3"
  },
  "language_info": {
   "codemirror_mode": {
    "name": "ipython",
    "version": 3
   },
   "file_extension": ".py",
   "mimetype": "text/x-python",
   "name": "python",
   "nbconvert_exporter": "python",
   "pygments_lexer": "ipython3",
   "version": "3.12.3"
  }
 },
 "nbformat": 4,
 "nbformat_minor": 2
}
